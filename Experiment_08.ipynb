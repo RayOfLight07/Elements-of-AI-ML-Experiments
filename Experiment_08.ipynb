{
  "nbformat": 4,
  "nbformat_minor": 0,
  "metadata": {
    "colab": {
      "provenance": [],
      "authorship_tag": "ABX9TyObHxmlxmdwVkIzopV3FQeQ",
      "include_colab_link": true
    },
    "kernelspec": {
      "name": "python3",
      "display_name": "Python 3"
    },
    "language_info": {
      "name": "python"
    }
  },
  "cells": [
    {
      "cell_type": "markdown",
      "metadata": {
        "id": "view-in-github",
        "colab_type": "text"
      },
      "source": [
        "<a href=\"https://colab.research.google.com/github/RayOfLight07/Elements_of_AI_ML/blob/main/Experiment_08.ipynb\" target=\"_parent\"><img src=\"https://colab.research.google.com/assets/colab-badge.svg\" alt=\"Open In Colab\"/></a>"
      ]
    },
    {
      "cell_type": "markdown",
      "source": [
        "# Implemention of Dimensionality reduction using Principal Component Analysis (PCA) method.\n"
      ],
      "metadata": {
        "id": "c9c84bOyONfK"
      }
    },
    {
      "cell_type": "markdown",
      "source": [
        "# Data Input and Standardization"
      ],
      "metadata": {
        "id": "A2012CAfWXqQ"
      }
    },
    {
      "cell_type": "code",
      "execution_count": 7,
      "metadata": {
        "id": "-ic7vuw_OgIe",
        "colab": {
          "base_uri": "https://localhost:8080/"
        },
        "outputId": "9f65234b-85a9-485b-84e3-e4cdd9ac12d3"
      },
      "outputs": [
        {
          "output_type": "stream",
          "name": "stdout",
          "text": [
            "Standardized Data:\n",
            " [[ 0.69  0.49]\n",
            " [-1.31 -1.21]\n",
            " [ 0.39  0.99]\n",
            " [ 0.09  0.29]\n",
            " [ 1.29  1.09]\n",
            " [ 0.49  0.79]\n",
            " [ 0.19 -0.31]\n",
            " [-0.81 -0.81]\n",
            " [-0.31 -0.31]\n",
            " [-0.71 -1.01]]\n"
          ]
        }
      ],
      "source": [
        "import numpy as np\n",
        "import pandas as pd\n",
        "import matplotlib.pyplot as plt\n",
        "\n",
        "# Sample data as a NumPy array\n",
        "data = np.array([[2.5, 2.4],\n",
        "                 [0.5, 0.7],\n",
        "                 [2.2, 2.9],\n",
        "                 [1.9, 2.2],\n",
        "                 [3.1, 3.0],\n",
        "                 [2.3, 2.7],\n",
        "                 [2.0, 1.6],\n",
        "                 [1.0, 1.1],\n",
        "                 [1.5, 1.6],\n",
        "                 [1.1, 0.9]])\n",
        "\n",
        "# Step 1: Standardize the data (mean = 0, variance = 1)\n",
        "data_meaned = data - np.mean(data, axis=0)\n",
        "\n",
        "# Output the standardized data\n",
        "print(\"Standardized Data:\\n\", data_meaned)"
      ]
    },
    {
      "cell_type": "markdown",
      "source": [
        "# Covariance Matrix"
      ],
      "metadata": {
        "id": "CJvGL5MuWLBR"
      }
    },
    {
      "cell_type": "code",
      "source": [
        "# Step 2: Compute the covariance matrix\n",
        "cov_matrix = np.cov(data_meaned, rowvar=False)\n",
        "\n",
        "# Output the covariance matrix\n",
        "print(\"Covariance Matrix:\\n\", cov_matrix)"
      ],
      "metadata": {
        "id": "XgkVOllwO4pR",
        "colab": {
          "base_uri": "https://localhost:8080/"
        },
        "outputId": "817d930d-401a-41e4-f844-312f65a98998"
      },
      "execution_count": 8,
      "outputs": [
        {
          "output_type": "stream",
          "name": "stdout",
          "text": [
            "Covariance Matrix:\n",
            " [[0.61655556 0.61544444]\n",
            " [0.61544444 0.71655556]]\n"
          ]
        }
      ]
    },
    {
      "cell_type": "markdown",
      "source": [
        "# Eigenvalues and Eigenvectors"
      ],
      "metadata": {
        "id": "oXYJjSiuVFOJ"
      }
    },
    {
      "cell_type": "code",
      "source": [
        "# Step 3: Calculate eigenvalues and eigenvectors separately\n",
        "eigenvalues, eigenvectors = np.linalg.eig(cov_matrix)\n",
        "\n",
        "# Output the eigenvalues and eigenvectors\n",
        "print(\"Eigenvalues:\\n\", eigenvalues)\n",
        "print(\"Eigenvectors:\\n\", eigenvectors)"
      ],
      "metadata": {
        "colab": {
          "base_uri": "https://localhost:8080/"
        },
        "id": "J5aXYqUtRSyB",
        "outputId": "7a214ce7-9ce9-4cdb-d163-0ade2de50e06"
      },
      "execution_count": 9,
      "outputs": [
        {
          "output_type": "stream",
          "name": "stdout",
          "text": [
            "Eigenvalues:\n",
            " [0.0490834  1.28402771]\n",
            "Eigenvectors:\n",
            " [[-0.73517866 -0.6778734 ]\n",
            " [ 0.6778734  -0.73517866]]\n"
          ]
        }
      ]
    },
    {
      "cell_type": "markdown",
      "source": [
        "# Sorting Eigenvalues and Eigenvectors"
      ],
      "metadata": {
        "id": "s-cO8pXAU0I6"
      }
    },
    {
      "cell_type": "code",
      "source": [
        "# Step 4: Sort eigenvalues in descending order, and get the indices\n",
        "sorted_index = np.argsort(eigenvalues)[::-1]\n",
        "\n",
        "# Step 5: Re-arrange eigenvalues and eigenvectors based on the sorted indices\n",
        "sorted_eigenvalues = eigenvalues[sorted_index]\n",
        "sorted_eigenvectors = eigenvectors[:, sorted_index]\n",
        "\n",
        "# Output the sorted eigenvalues and eigenvectors\n",
        "print(\"Sorted Eigenvalues:\\n\", sorted_eigenvalues)\n",
        "print(\"Sorted Eigenvectors:\\n\", sorted_eigenvectors)"
      ],
      "metadata": {
        "colab": {
          "base_uri": "https://localhost:8080/"
        },
        "id": "4nS61LOaQJlZ",
        "outputId": "a91090eb-9ba8-4bf9-826f-fbfcbec2485b"
      },
      "execution_count": 10,
      "outputs": [
        {
          "output_type": "stream",
          "name": "stdout",
          "text": [
            "Sorted Eigenvalues:\n",
            " [1.28402771 0.0490834 ]\n",
            "Sorted Eigenvectors:\n",
            " [[-0.6778734  -0.73517866]\n",
            " [-0.73517866  0.6778734 ]]\n"
          ]
        }
      ]
    },
    {
      "cell_type": "markdown",
      "source": [
        "# Select Principal Components"
      ],
      "metadata": {
        "id": "zO3u9ASyUt5y"
      }
    },
    {
      "cell_type": "code",
      "source": [
        "# Step 6: Select the top k eigenvectors (for example, k=2 here)\n",
        "n_components = 2\n",
        "eigenvector_subset = sorted_eigenvectors[:, :n_components]\n",
        "\n",
        "# Output the selected principal components (eigenvectors)\n",
        "print(f\"Top {n_components} Principal Components (Eigenvectors):\\n\", eigenvector_subset)\n"
      ],
      "metadata": {
        "colab": {
          "base_uri": "https://localhost:8080/"
        },
        "id": "sgNNTmCyQJcq",
        "outputId": "d095b059-ad5c-4647-c54c-0a9787897a8e"
      },
      "execution_count": 11,
      "outputs": [
        {
          "output_type": "stream",
          "name": "stdout",
          "text": [
            "Top 2 Principal Components (Eigenvectors):\n",
            " [[-0.6778734  -0.73517866]\n",
            " [-0.73517866  0.6778734 ]]\n"
          ]
        }
      ]
    },
    {
      "cell_type": "markdown",
      "source": [
        "# Project the Data"
      ],
      "metadata": {
        "id": "mGZPj9XLUnaZ"
      }
    },
    {
      "cell_type": "code",
      "source": [
        "# Step 7: Project the original data onto the new feature space (principal components)\n",
        "pca_data = np.dot(data_meaned, eigenvector_subset)\n",
        "\n",
        "# Output the projected data (new transformed data)\n",
        "print(\"Projected Data (PCA Result):\\n\", pca_data)\n"
      ],
      "metadata": {
        "colab": {
          "base_uri": "https://localhost:8080/"
        },
        "id": "472eNE8vQJTS",
        "outputId": "b2b3b54b-62a8-42b2-df9a-802ffde599f7"
      },
      "execution_count": 12,
      "outputs": [
        {
          "output_type": "stream",
          "name": "stdout",
          "text": [
            "Projected Data (PCA Result):\n",
            " [[-0.82797019 -0.17511531]\n",
            " [ 1.77758033  0.14285723]\n",
            " [-0.99219749  0.38437499]\n",
            " [-0.27421042  0.13041721]\n",
            " [-1.67580142 -0.20949846]\n",
            " [-0.9129491   0.17528244]\n",
            " [ 0.09910944 -0.3498247 ]\n",
            " [ 1.14457216  0.04641726]\n",
            " [ 0.43804614  0.01776463]\n",
            " [ 1.22382056 -0.16267529]]\n"
          ]
        }
      ]
    },
    {
      "cell_type": "markdown",
      "source": [
        "# Visualization"
      ],
      "metadata": {
        "id": "8raBN9bTUeJB"
      }
    },
    {
      "cell_type": "code",
      "source": [
        "# Step 8: Visualize the transformed data\n",
        "plt.figure(figsize=(6, 6))\n",
        "plt.scatter(pca_data[:, 0], pca_data[:, 1], color='blue', label='Data points')\n",
        "plt.xlabel('Principal Component 1')\n",
        "plt.ylabel('Principal Component 2')\n",
        "plt.title('PCA Result (Using Eigenvalues and Eigenvectors Separately)')\n",
        "plt.grid(True)\n",
        "plt.show()"
      ],
      "metadata": {
        "colab": {
          "base_uri": "https://localhost:8080/",
          "height": 564
        },
        "id": "ZcOV_WsIQJKQ",
        "outputId": "f0ab5b88-a08a-4731-94bf-0791a4b4e77c"
      },
      "execution_count": 13,
      "outputs": [
        {
          "output_type": "display_data",
          "data": {
            "text/plain": [
              "<Figure size 600x600 with 1 Axes>"
            ],
            "image/png": "[encoded data removed]"
          },
          "metadata": {}
        }
      ]
    },
    {
      "cell_type": "markdown",
      "source": [
        "# Explained Variance"
      ],
      "metadata": {
        "id": "wasQsvhwUVHK"
      }
    },
    {
      "cell_type": "code",
      "source": [
        "# Step 9: Print the explained variance (how much variance each component captures)\n",
        "explained_variance = sorted_eigenvalues / np.sum(eigenvalues)\n",
        "print(f\"Explained Variance Ratio: {explained_variance[:n_components]}\")"
      ],
      "metadata": {
        "colab": {
          "base_uri": "https://localhost:8080/"
        },
        "id": "L8EhsQ2xQJBY",
        "outputId": "824227ed-787c-45b6-e591-f126d7547f9e"
      },
      "execution_count": 14,
      "outputs": [
        {
          "output_type": "stream",
          "name": "stdout",
          "text": [
            "Explained Variance Ratio: [0.96318131 0.03681869]\n"
          ]
        }
      ]
    }
  ]
}